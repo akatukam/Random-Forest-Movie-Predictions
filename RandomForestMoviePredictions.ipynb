{
  "nbformat": 4,
  "nbformat_minor": 0,
  "metadata": {
    "colab": {
      "provenance": [],
      "include_colab_link": true
    },
    "kernelspec": {
      "name": "python3",
      "display_name": "Python 3"
    },
    "language_info": {
      "name": "python"
    }
  },
  "cells": [
    {
      "cell_type": "markdown",
      "metadata": {
        "id": "view-in-github",
        "colab_type": "text"
      },
      "source": [
        "<a href=\"https://colab.research.google.com/github/akatukam/Random-Forest-Movie-Predictions/blob/main/RandomForestMoviePredictions.ipynb\" target=\"_parent\"><img src=\"https://colab.research.google.com/assets/colab-badge.svg\" alt=\"Open In Colab\"/></a>"
      ]
    },
    {
      "cell_type": "markdown",
      "source": [
        "For the following project, you will be working with a movie dataset. The dataset is [here](https://drive.google.com/file/d/1R53inu8Jcb9GGoyiuVnBMVnO7XvCaJAE/view?usp=drive_link). The dataset columns are as follows:\n",
        "\n",
        "* Title: The movie's title\n",
        "* Genre: The movie's genre\n",
        "* Stars: The number of famous actors in the movie\n",
        "* Runtime: The length of the movie's runtime\n",
        "* Budget: How much was spent on filming the movie (in millions)\n",
        "* Promo: How much money was spent promoting the movie (in millions)\n",
        "* Season: The season in which the movie was released\n",
        "* Rating: The movie's rating\n",
        "* R1: Reviewer 1's review\n",
        "* R1: Reviewer 2's review\n",
        "* R1: Reviewer 3's review\n",
        "\n",
        "And the target variable:\n",
        "\n",
        "* Success: Whether the film was a success or a flop\n",
        "\n",
        "Fill in the answers to questions in the text field, and show your code below."
      ],
      "metadata": {
        "id": "y2MZurcV4Dqo"
      }
    },
    {
      "cell_type": "markdown",
      "source": [
        "# Data loading\n",
        "\n",
        "Load the data"
      ],
      "metadata": {
        "id": "pMd--NtS6UYo"
      }
    },
    {
      "cell_type": "code",
      "execution_count": null,
      "metadata": {
        "id": "pPlRDp5R1Di5",
        "colab": {
          "base_uri": "https://localhost:8080/"
        },
        "outputId": "ba674387-e4ba-4879-9ae5-59348ea510dd"
      },
      "outputs": [
        {
          "output_type": "stream",
          "name": "stdout",
          "text": [
            "Requirement already satisfied: textblob in /usr/local/lib/python3.10/dist-packages (0.17.1)\n",
            "Requirement already satisfied: nltk>=3.1 in /usr/local/lib/python3.10/dist-packages (from textblob) (3.8.1)\n",
            "Requirement already satisfied: click in /usr/local/lib/python3.10/dist-packages (from nltk>=3.1->textblob) (8.1.7)\n",
            "Requirement already satisfied: joblib in /usr/local/lib/python3.10/dist-packages (from nltk>=3.1->textblob) (1.3.2)\n",
            "Requirement already satisfied: regex>=2021.8.3 in /usr/local/lib/python3.10/dist-packages (from nltk>=3.1->textblob) (2023.6.3)\n",
            "Requirement already satisfied: tqdm in /usr/local/lib/python3.10/dist-packages (from nltk>=3.1->textblob) (4.66.1)\n",
            "Mounted at /content/drive\n"
          ]
        }
      ],
      "source": [
        "import pandas as pd\n",
        "import sklearn\n",
        "import seaborn as sns\n",
        "import numpy as np\n",
        "import matplotlib.pyplot as plt\n",
        "from scipy.stats import chi2_contingency\n",
        "!pip install textblob\n",
        "from textblob import TextBlob\n",
        "from google.colab import drive\n",
        "drive.mount('/content/drive')\n",
        "reviews = pd.read_csv('/content/drive/My Drive/CMSC320FinalProjectData.csv')"
      ]
    },
    {
      "cell_type": "markdown",
      "source": [
        "# Data Cleaning\n",
        "\n",
        "List the three biggest data errors below, with a summary of how you fixed them and why you choose that method:\n",
        "\n",
        "\n",
        "* The runtime for some of the movies is 0, which seems to be some kind of error. Upon looking at a histogram of the frequency of different numbers of stars in movies, I opted to use mean imputation to fix the values. The data looks extremely normal other than the spike at 0, meaning that the mean would be a very likely value for the missing fields.\n",
        "\n",
        "* The budget for some movies seems ridiculously high and unrealistic. Upon observation, it was clear that the decimals were misplaced. To identify which movies this was the case for, I calculated the z-scores of all the movies and adjusted my z-score range until only unreasonably budgeted movies were singled out. For these movies, I moved the decimal point to the left until they were in the range of the non-outlier movies' budgets. There was only one case of ambiguity here in terms of how far to move the decimal while keeping it in the range, which was easily deducable by manually looking at it's promo field and realizing it was most likely a small budget movie, and not one of the largest budget movies in the dataset, which would have been the alternative.\n",
        "\n",
        "* The number of stars for some of the movies is 100, which seems to be an impossible amount. This is likely some kind of error. Since I have 541 movies worth of data, and this error only affects 2 of these movies, I opted to simply drop those two movies from my dataset. These movies represent far less than 1 percent of my data, so this felt like a valid way to go about fixing this issue."
      ],
      "metadata": {
        "id": "yH21qcym6a03"
      }
    },
    {
      "cell_type": "code",
      "source": [
        "# Error # 1: Runtimes\n",
        "########################\n",
        "\n",
        "# Analyzing the frequency of various runtimes to decide what method to use\n",
        "sns.histplot(reviews['Runtime'], kde = True)\n",
        "plt.title('Histogram of Runtimes')\n",
        "plt.xlabel('Runtimes')\n",
        "plt.ylabel('Frequency')\n",
        "plt.show()\n",
        "print(\"Mean:\", reviews['Runtime'].mean())\n",
        "print(\"Mode:\", reviews['Runtime'].mode())\n",
        "\n",
        "# Using mean imputation\n",
        "ave_runtime = reviews[reviews['Runtime'] != 0]['Runtime'].mean()\n",
        "reviews.loc[reviews['Runtime'] == 0, 'Runtime'] = ave_runtime\n",
        "\n",
        "# Error # 2: Budget\n",
        "########################\n",
        "\n",
        "# Identifying the outliers using their Z-scores \"\"\"\n",
        "reviews['Budget_Zscores'] = abs((reviews['Budget'] - reviews['Budget'].mean()) / reviews['Budget'].std())\n",
        "\n",
        "# Adjusting this Z-score treshhold based on if the new budget range appears reasonable\n",
        "# (When the Z-score was 0.1 higher, it included a movie with a budget of 30239136.298022225.\n",
        "# As such, I stuck with 1.3, which has the next biggest value of 327, which appears reasonable)\n",
        "threshold = 1.3\n",
        "outliers = reviews[reviews['Budget_Zscores'] > threshold]\n",
        "print(\"Z-scores and Budget values for outliers:\")\n",
        "print(outliers[['Budget_Zscores', 'Budget']])\n",
        "budgets_without_outliers = reviews[reviews['Budget_Zscores'] <= threshold]['Budget']\n",
        "\n",
        "# Print the range of budgets excluding outliers to check if the outlier threshhold is accurate\n",
        "print(\"Range of valid budgets without outliers:\", (budgets_without_outliers.min(), budgets_without_outliers.max()))\n",
        "# Moving the decimal point to get the outlier budget in the range\n",
        "scale = 1\n",
        "scaled_outliers = outliers['Budget'].copy()\n",
        "while any(scaled_outliers < budgets_without_outliers.min()) or any(scaled_outliers > budgets_without_outliers.max()):\n",
        "    scaled_outliers = outliers['Budget'] / (10 ** scale)\n",
        "    scale += 1\n",
        "print(\"Fixed outliers:\")\n",
        "print(scaled_outliers)\n",
        "reviews.loc[outliers.index, 'Budget'] = scaled_outliers\n",
        "reviews.drop(columns=['Budget_Zscores'], inplace=True)\n",
        "\n",
        "# Error # 3: Number of Stars\n",
        "########################\n",
        "\n",
        "# Analyzing the frequency of various numbers of stars\n",
        "sns.histplot(reviews['Stars'])\n",
        "plt.title('Histogram of Number of Stars')\n",
        "plt.xlabel('Num of Stars')\n",
        "plt.ylabel('Frequency')\n",
        "plt.xlim(0, 6)\n",
        "plt.show()\n",
        "print(\"Mean:\", reviews['Stars'].mean())\n",
        "print(\"Mode:\", reviews['Stars'].mode())\n",
        "reviews = reviews[reviews['Stars'] != 100]"
      ],
      "metadata": {
        "id": "bNLnmnpV4DUY",
        "colab": {
          "base_uri": "https://localhost:8080/",
          "height": 1000
        },
        "outputId": "48e53832-2c1d-441b-8af6-85f9445208ce"
      },
      "execution_count": null,
      "outputs": [
        {
          "output_type": "display_data",
          "data": {
            "text/plain": [
              "<Figure size 640x480 with 1 Axes>"
            ],
            "image/png": "[encoded data removed]"
          },
          "metadata": {}
        },
        {
          "output_type": "stream",
          "name": "stdout",
          "text": [
            "Mean: 126.08888888888889\n",
            "Mode: 0    133\n",
            "Name: Runtime, dtype: int64\n",
            "Z-scores and Budget values for outliers:\n",
            "     Budget_Zscores        Budget\n",
            "0          3.230208  6.679387e+07\n",
            "9          4.662378  9.464885e+07\n",
            "21         5.373270  1.084753e+08\n",
            "30         3.556415  7.313843e+07\n",
            "32         1.350737  3.023914e+07\n",
            "34         3.692512  7.578546e+07\n",
            "46         1.518055  3.349339e+07\n",
            "83         5.144428  1.040245e+08\n",
            "97         7.261909  1.452084e+08\n",
            "114        8.065695  1.608416e+08\n",
            "130        4.804427  9.741162e+07\n",
            "180        5.991392  1.204975e+08\n",
            "227        3.014196  6.259256e+07\n",
            "256        3.085582  6.398098e+07\n",
            "320        4.199458  8.564528e+07\n",
            "382        2.764466  5.773544e+07\n",
            "401        4.980751  1.008410e+08\n",
            "420        3.317407  6.848986e+07\n",
            "451        2.743266  5.732310e+07\n",
            "472        5.472595  1.104071e+08\n",
            "478        2.960931  6.155658e+07\n",
            "503        7.447894  1.488257e+08\n",
            "514        5.340196  1.078320e+08\n",
            "516        2.504662  5.268239e+07\n",
            "526        2.583266  5.421120e+07\n",
            "Range of valid budgets without outliers: (21.750323342668523, 327.41546290849664)\n",
            "Fixed outliers:\n",
            "0       66.793869\n",
            "9       94.648847\n",
            "21     108.475312\n",
            "30      73.138433\n",
            "32      30.239136\n",
            "34      75.785458\n",
            "46      33.493393\n",
            "83     104.024453\n",
            "97     145.208368\n",
            "114    160.841585\n",
            "130     97.411624\n",
            "180    120.497474\n",
            "227     62.592557\n",
            "256     63.980984\n",
            "320     85.645279\n",
            "382     57.735438\n",
            "401    100.841033\n",
            "420     68.489862\n",
            "451     57.323101\n",
            "472    110.407144\n",
            "478     61.556583\n",
            "503    148.825684\n",
            "514    107.832038\n",
            "516     52.682386\n",
            "526     54.211200\n",
            "Name: Budget, dtype: float64\n"
          ]
        },
        {
          "output_type": "display_data",
          "data": {
            "text/plain": [
              "<Figure size 640x480 with 1 Axes>"
            ],
            "image/png": "[encoded data removed]"
          },
          "metadata": {}
        },
        {
          "output_type": "stream",
          "name": "stdout",
          "text": [
            "Mean: 1.8685185185185185\n",
            "Mode: 0    1\n",
            "Name: Stars, dtype: int64\n"
          ]
        }
      ]
    },
    {
      "cell_type": "markdown",
      "source": [
        "# Data Exploration\n",
        "\n",
        "\n",
        "\n"
      ],
      "metadata": {
        "id": "dHokHRPI66lw"
      }
    },
    {
      "cell_type": "markdown",
      "source": [
        "Does Season have a stastically significant impact on a movie's success?\n",
        "\n",
        "Yes, it does. I performed a Chi-squared test of independence in which my null hypothesis was that seasons and movie success are independent, and my alternative hypothesis was that seasons and movie success are dependent. Since my p-value is so low—close to zero, my null hypothesis is not supported. Seasons do have a statistically significant impact on a movie's success.\n",
        "\n",
        "**p-value:** 0.006534648782285328"
      ],
      "metadata": {
        "id": "OHbNovM57Lj7"
      }
    },
    {
      "cell_type": "code",
      "source": [
        "contingency_table = pd.crosstab(reviews['Season'], reviews['Success'])\n",
        "chi2, p, dof, expected = chi2_contingency(contingency_table)\n",
        "\n",
        "print(p)"
      ],
      "metadata": {
        "id": "XGZlyOBW65-B",
        "colab": {
          "base_uri": "https://localhost:8080/"
        },
        "outputId": "e8ea81a2-f826-40c4-8dfd-a14e5919fc23"
      },
      "execution_count": null,
      "outputs": [
        {
          "output_type": "stream",
          "name": "stdout",
          "text": [
            "0.006534648782285328\n"
          ]
        }
      ]
    },
    {
      "cell_type": "markdown",
      "source": [
        "Do seasons have a statistically significant difference in their distribution of content ratings?\n",
        "\n",
        "No, they do not. I performed a Chi-squared test of independence in which my null hypothesis was that seasons and their distribution of content ratings are independent, and my alternative hypothesis was that seasons and their distribution of content ratings are dependent. Since my p-value is far over 0.05, my null hypothesis is significantly supported. Seasons do not have a statistically significant difference in their distribution of content ratings.\n",
        "\n",
        "**p-value:** 0.2096305929818337"
      ],
      "metadata": {
        "id": "OM6_URSkBXDz"
      }
    },
    {
      "cell_type": "code",
      "source": [
        "contingency_table = pd.crosstab(reviews['Season'], reviews['Rating'])\n",
        "chi2, p, dof, expected = chi2_contingency(contingency_table)\n",
        "\n",
        "print(p)"
      ],
      "metadata": {
        "id": "GtSbRZxOBeXC",
        "colab": {
          "base_uri": "https://localhost:8080/"
        },
        "outputId": "c9e234fb-a547-4d7e-b2c0-9799ff692d8b"
      },
      "execution_count": null,
      "outputs": [
        {
          "output_type": "stream",
          "name": "stdout",
          "text": [
            "0.2096305929818337\n"
          ]
        }
      ]
    },
    {
      "cell_type": "markdown",
      "source": [
        "Who is the harshest critic (highest precent of negative reviews)?\n",
        "\n",
        "**Critic:** R1 is the harshest critic."
      ],
      "metadata": {
        "id": "rbhSWWp37M2Z"
      }
    },
    {
      "cell_type": "code",
      "source": [
        "reviews['Rev_R1'] = reviews['R1'].apply(lambda x: TextBlob(str(x)).sentiment.polarity)\n",
        "reviews['Rev_R2'] = reviews['R2'].apply(lambda x: TextBlob(str(x)).sentiment.polarity)\n",
        "reviews['Rev_R3'] = reviews['R3'].apply(lambda x: TextBlob(str(x)).sentiment.polarity)\n",
        "\n",
        "def is_neg(sentiment_score):\n",
        "    return 1 if sentiment_score < 0 else 0\n",
        "\n",
        "reviews['Neg_R1'] = reviews['Rev_R1'].apply(is_neg)\n",
        "reviews['Neg_R2'] = reviews['Rev_R2'].apply(is_neg)\n",
        "reviews['Neg_R3'] = reviews['Rev_R3'].apply(is_neg)\n",
        "\n",
        "print((reviews['Neg_R1'].sum() / len(reviews)) * 100)\n",
        "print((reviews['Neg_R2'].sum() / len(reviews)) * 100)\n",
        "print((reviews['Neg_R3'].sum() / len(reviews)) * 100)\n",
        "\n",
        "reviews.drop(['Rev_R1', 'Rev_R2', 'Rev_R3',\n",
        "              'Neg_R1', 'Neg_R2', 'Neg_R3'], axis=1, inplace=True)"
      ],
      "metadata": {
        "id": "92CUkllO7Slx",
        "colab": {
          "base_uri": "https://localhost:8080/"
        },
        "outputId": "3ddad2c8-2309-4805-abeb-16d5705ce113"
      },
      "execution_count": null,
      "outputs": [
        {
          "output_type": "stream",
          "name": "stdout",
          "text": [
            "54.646840148698885\n",
            "43.30855018587361\n",
            "34.94423791821561\n"
          ]
        }
      ]
    },
    {
      "cell_type": "markdown",
      "source": [
        "What is the covariance between promotional budget and the filming budget?\n",
        "\n",
        "**Cov:** 1908.7277141886009"
      ],
      "metadata": {
        "id": "3H5DlS_E7S1u"
      }
    },
    {
      "cell_type": "code",
      "source": [
        "covariance = reviews['Promo'].cov(reviews['Budget'])\n",
        "print(covariance)"
      ],
      "metadata": {
        "id": "9ZCJ4P-l7lrE",
        "colab": {
          "base_uri": "https://localhost:8080/"
        },
        "outputId": "2f63f7c1-2539-47b9-eab0-4fd399e4adf1"
      },
      "execution_count": null,
      "outputs": [
        {
          "output_type": "stream",
          "name": "stdout",
          "text": [
            "1908.7277141886009\n"
          ]
        }
      ]
    },
    {
      "cell_type": "markdown",
      "source": [
        "# Data Visualization"
      ],
      "metadata": {
        "id": "eiTujTFw7orS"
      }
    },
    {
      "cell_type": "markdown",
      "source": [
        "Create a chart that compares the distribution of the budget for each different number of stars. (It does not need to be particularly appealing."
      ],
      "metadata": {
        "id": "e907N-i-7r5N"
      }
    },
    {
      "cell_type": "code",
      "source": [
        "plt.figure(figsize=(10, 6))\n",
        "sns.boxplot(x='Stars', y='Budget', data=reviews, palette='colorblind')\n",
        "plt.xlabel('Number of Stars')\n",
        "plt.ylabel('Budget')\n",
        "plt.title('Distribution of Budget for Different Numbers of Stars')\n",
        "plt.show()"
      ],
      "metadata": {
        "id": "DZubydmS8eME",
        "colab": {
          "base_uri": "https://localhost:8080/",
          "height": 564
        },
        "outputId": "19cce2b8-62ed-4b08-9159-64a256a3f140"
      },
      "execution_count": null,
      "outputs": [
        {
          "output_type": "display_data",
          "data": {
            "text/plain": [
              "<Figure size 1000x600 with 1 Axes>"
            ],
            "image/png": "[encoded data removed]"
          },
          "metadata": {}
        }
      ]
    },
    {
      "cell_type": "markdown",
      "source": [
        "Create a graph showing the average movie budget over time."
      ],
      "metadata": {
        "id": "tUut9r0u8eYu"
      }
    },
    {
      "cell_type": "code",
      "source": [
        "avg_budget = reviews.groupby('Year')['Budget'].mean().reset_index()\n",
        "sns.lineplot(x='Year', y='Budget', data=avg_budget)\n",
        "plt.xlabel('Release Year')\n",
        "plt.ylabel('Average Budget')\n",
        "plt.title('Average Movie Budget Over Time')\n",
        "plt.show()"
      ],
      "metadata": {
        "id": "ZG9Fc95v8qRf",
        "colab": {
          "base_uri": "https://localhost:8080/",
          "height": 472
        },
        "outputId": "406d5158-24ac-40a4-b136-f71c914aedd3"
      },
      "execution_count": null,
      "outputs": [
        {
          "output_type": "display_data",
          "data": {
            "text/plain": [
              "<Figure size 640x480 with 1 Axes>"
            ],
            "image/png": "[encoded data removed]"
          },
          "metadata": {}
        }
      ]
    },
    {
      "cell_type": "markdown",
      "source": [
        "# Feature Engineering\n",
        "\n",
        "List any features you choose to create (if you are creating many features based on one column, you do not need to list them separately.) You are not required to create any features if you do not wish to. You may create any number of additional features.\n",
        "\n",
        "\n",
        "* Season\n",
        "* Rating\n",
        "* Genre\n",
        "* Polarity of R1\n",
        "* Polarity of R2\n",
        "* Polarity of R3\n",
        "* Sentiment of R1\n",
        "* Sentiment of R2\n",
        "* Sentiment of R3"
      ],
      "metadata": {
        "id": "_UqUj1uy80Re"
      }
    },
    {
      "cell_type": "code",
      "source": [
        "reviews['R1_Polarity'] = reviews['R1'].apply(lambda text: TextBlob(str(text)).sentiment.polarity)\n",
        "reviews['R1_Subjectivity'] = reviews['R1'].apply(lambda text: TextBlob(str(text)).sentiment.subjectivity)\n",
        "\n",
        "reviews['R2_Polarity'] = reviews['R2'].apply(lambda text: TextBlob(str(text)).sentiment.polarity)\n",
        "reviews['R2_Subjectivity'] = reviews['R2'].apply(lambda text: TextBlob(str(text)).sentiment.subjectivity)\n",
        "\n",
        "reviews['R3_Polarity'] = reviews['R3'].apply(lambda text: TextBlob(str(text)).sentiment.polarity)\n",
        "reviews['R3_Subjectivity'] = reviews['R3'].apply(lambda text: TextBlob(str(text)).sentiment.subjectivity)\n",
        "\n",
        "numerical_cols = ['Budget', 'Promo', 'Stars']\n",
        "categorical_cols = ['Rating', 'Season', 'Genre']\n",
        "sentiment_cols = ['R1_Polarity', 'R1_Subjectivity', 'R2_Polarity', 'R2_Subjectivity', 'R3_Polarity', 'R3_Subjectivity']\n",
        "\n",
        "encoded_categorical_cols = pd.get_dummies(reviews[categorical_cols])\n",
        "feature_matrix = pd.concat([reviews[numerical_cols + sentiment_cols], encoded_categorical_cols], axis=1)"
      ],
      "metadata": {
        "id": "zX9EeUKA9c5n"
      },
      "execution_count": null,
      "outputs": []
    },
    {
      "cell_type": "markdown",
      "source": [
        "# Modeling\n",
        "\n",
        "Create a model of your choice.\n",
        "\n",
        "**Model type choosen:** Random Forest Classifier"
      ],
      "metadata": {
        "id": "bj3Rdh229dLW"
      }
    },
    {
      "cell_type": "code",
      "source": [
        "from sklearn.model_selection import train_test_split\n",
        "from sklearn.ensemble import RandomForestClassifier\n",
        "\n",
        "X = feature_matrix\n",
        "y = reviews['Success']\n",
        "\n",
        "rf_classifier = RandomForestClassifier(n_estimators=100, class_weight = 'balanced', max_depth=13, random_state=0)"
      ],
      "metadata": {
        "id": "b-adaG_K9mIz"
      },
      "execution_count": null,
      "outputs": []
    },
    {
      "cell_type": "markdown",
      "source": [
        "# Testing"
      ],
      "metadata": {
        "id": "GY8VzL3J9mUi"
      }
    },
    {
      "cell_type": "markdown",
      "source": [
        "Shuffle your data and break it into a 10% test set and 90% training set. Show your model's accuracy on the test set. In order to get full credit, the model's accuracy must be higher than 50%.\n",
        "\n",
        "**Model accuracy:** 0.83"
      ],
      "metadata": {
        "id": "ZeLtWCur9p7x"
      }
    },
    {
      "cell_type": "code",
      "source": [
        "from sklearn.metrics import accuracy_score\n",
        "X_train, X_test, y_train, y_test = train_test_split(X, y, test_size=0.1, random_state=42)\n",
        "rf_classifier.fit(X_train, y_train)\n",
        "\n",
        "y_pred = rf_classifier.predict(X_test)\n",
        "accuracy = accuracy_score(y_test, y_pred)\n",
        "print(f\"Accuracy: \", accuracy)"
      ],
      "metadata": {
        "id": "D4TIzTVT9o59",
        "colab": {
          "base_uri": "https://localhost:8080/"
        },
        "outputId": "8fc57116-533c-4bdd-e491-32c230b1c0bd"
      },
      "execution_count": null,
      "outputs": [
        {
          "output_type": "stream",
          "name": "stdout",
          "text": [
            "Accuracy:  0.8333333333333334\n"
          ]
        }
      ]
    },
    {
      "cell_type": "markdown",
      "source": [
        "Show the confusion matrix for your model. To get full credit, your false positive rate and false negative rate must be under 30%.\n",
        "\n",
        "\n",
        "**False negative rate:** 0.13\n",
        "\n",
        "**False positive rate:** 0.04"
      ],
      "metadata": {
        "id": "qHtRp8Ip9qAW"
      }
    },
    {
      "cell_type": "code",
      "source": [
        "from sklearn.metrics import confusion_matrix\n",
        "\n",
        "conf_matrix = confusion_matrix(y_test, y_pred)\n",
        "tn, fp, fn, tp = conf_matrix.ravel()\n",
        "\n",
        "fpr = fp/(fp+tp+fn+tn)\n",
        "fnr = fn/(fp+tp+fn+tn)\n",
        "\n",
        "print(\"Confusion Matrix:\")\n",
        "print(conf_matrix)\n",
        "\n",
        "print(f\"False Positive Rate:\", fpr)\n",
        "print(f\"False Negative Rate:\", fnr)"
      ],
      "metadata": {
        "id": "8-sgv2Ix_Adj",
        "colab": {
          "base_uri": "https://localhost:8080/"
        },
        "outputId": "b282219c-4cd1-4402-cbc9-c0a12ddeb41d"
      },
      "execution_count": null,
      "outputs": [
        {
          "output_type": "stream",
          "name": "stdout",
          "text": [
            "Confusion Matrix:\n",
            "[[42  2]\n",
            " [ 7  3]]\n",
            "False Positive Rate: 0.037037037037037035\n",
            "False Negative Rate: 0.12962962962962962\n"
          ]
        }
      ]
    },
    {
      "cell_type": "markdown",
      "source": [
        "What was the most important feature for your model? Don't guess, either look up how to check or do your own tests.\n",
        "\n",
        "**Most important feature:** The polarity of reviewer 1's reviews\n"
      ],
      "metadata": {
        "id": "VdxaHXn5_Jt_"
      }
    },
    {
      "cell_type": "code",
      "source": [
        "importance = rf_classifier.feature_importances_\n",
        "scores = pd.Series(importance, index=X.columns)\n",
        "print(scores)"
      ],
      "metadata": {
        "id": "fTgKIBvV_swo",
        "colab": {
          "base_uri": "https://localhost:8080/"
        },
        "outputId": "a8f7ecfa-2fb1-4182-a9a6-230c3dac960a"
      },
      "execution_count": null,
      "outputs": [
        {
          "output_type": "stream",
          "name": "stdout",
          "text": [
            "Budget                   0.118188\n",
            "Promo                    0.112403\n",
            "Stars                    0.094441\n",
            "R1_Polarity              0.179715\n",
            "R1_Subjectivity          0.076461\n",
            "R2_Polarity              0.069949\n",
            "R2_Subjectivity          0.063839\n",
            "R3_Polarity              0.060805\n",
            "R3_Subjectivity          0.058472\n",
            "Rating_PG                0.014420\n",
            "Rating_PG13              0.012935\n",
            "Rating_R                 0.017719\n",
            "Season_Fall              0.008465\n",
            "Season_Spring            0.017420\n",
            "Season_Summer            0.012976\n",
            "Season_Winter            0.013207\n",
            "Genre_Action             0.031177\n",
            "Genre_Drama              0.012175\n",
            "Genre_Fantasy            0.005535\n",
            "Genre_Romantic Comedy    0.015634\n",
            "Genre_Science fiction    0.004065\n",
            "dtype: float64\n"
          ]
        }
      ]
    }
  ]
}